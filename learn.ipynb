{
 "cells": [
  {
   "cell_type": "code",
   "execution_count": 1,
   "metadata": {},
   "outputs": [],
   "source": [
    "import pyspark\n",
    "# sc.stop()\n",
    "from pyspark.sql import SparkSession\n",
    "from pyspark import SparkContext, SparkConf\n",
    "conf = SparkConf()\n",
    "conf.set('spark.cores.max', '8')\n",
    "conf.set('spark.executor.memory', '7g')\n",
    "conf.set('spark.task.maxFailures', '20')\n",
    "conf.set('spark.sql.caseSensitive', 'true')\n",
    "conf.set('spark.executor.cores', '2')\n",
    "conf.set('spark.rdd.compress', 'True')\n",
    "conf.set(\"spark.driver.memory\", \"7g\")\n",
    "sc = SparkContext.getOrCreate(conf=conf)\n",
    "spark = pyspark.sql.SparkSession(sc)"
   ]
  },
  {
   "cell_type": "code",
   "execution_count": 2,
   "metadata": {},
   "outputs": [],
   "source": [
    "from pythagorasutils import get_spark\n",
    "sc = get_spark()['sc']\n",
    "spark = get_spark()['spark']\n",
    "fs = get_spark()['_fs']\n",
    "path = get_spark()['_path']"
   ]
  },
  {
   "cell_type": "code",
   "execution_count": 3,
   "metadata": {},
   "outputs": [],
   "source": [
    "from pythagorasutils.generic.notebook_utils import Utils\n",
    "from pythagorasutils.generic.hdfs import HdfsUtils\n",
    "from pythagorasutils.writing.transmit import DataTransmit\n",
    "from pythagorasutils.loading.dataframe import DataframeLoader\n",
    "from pythagorasutils.generic.dataframe import DataFrameUtils\n",
    "from pythagorasutils.loading.config_reader import Conf\n",
    "from pythagorasutils.loading.config_reader import ConfigReader"
   ]
  },
  {
   "cell_type": "code",
   "execution_count": 4,
   "metadata": {},
   "outputs": [],
   "source": [
    "import pandas as pd\n",
    "import os\n",
    "pd.set_option('display.max_columns', 500)\n",
    "pd.set_option('display.width', 1000)\n",
    "pd.options.display.float_format = '{:20,.3f}'.format\n",
    "import pyspark.sql.functions as f\n",
    "from pyspark.sql.functions import col as c\n",
    "from pyspark.sql.window import Window\n",
    "from datetime import datetime, timedelta\n",
    "from dateutil.relativedelta import relativedelta\n",
    "from pyspark.sql.types import *"
   ]
  },
  {
   "cell_type": "code",
   "execution_count": null,
   "metadata": {},
   "outputs": [],
   "source": []
  },
  {
   "cell_type": "code",
   "execution_count": null,
   "metadata": {},
   "outputs": [],
   "source": []
  },
  {
   "cell_type": "code",
   "execution_count": null,
   "metadata": {},
   "outputs": [],
   "source": []
  },
  {
   "cell_type": "code",
   "execution_count": null,
   "metadata": {},
   "outputs": [],
   "source": []
  },
  {
   "cell_type": "code",
   "execution_count": null,
   "metadata": {},
   "outputs": [],
   "source": []
  },
  {
   "cell_type": "code",
   "execution_count": null,
   "metadata": {},
   "outputs": [],
   "source": []
  },
  {
   "cell_type": "code",
   "execution_count": null,
   "metadata": {},
   "outputs": [],
   "source": []
  }
 ],
 "metadata": {
  "kernelspec": {
   "display_name": "Python 3",
   "language": "python",
   "name": "python3"
  },
  "language_info": {
   "codemirror_mode": {
    "name": "ipython",
    "version": 3
   },
   "file_extension": ".py",
   "mimetype": "text/x-python",
   "name": "python",
   "nbconvert_exporter": "python",
   "pygments_lexer": "ipython3",
   "version": "3.6.6"
  }
 },
 "nbformat": 4,
 "nbformat_minor": 4
}
